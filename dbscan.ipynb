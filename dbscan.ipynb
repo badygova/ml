{
 "cells": [
  {
   "cell_type": "code",
   "execution_count": 21,
   "metadata": {},
   "outputs": [],
   "source": [
    "#импорт библиотек\n",
    "import matplotlib.pyplot as plt\n",
    "import matplotlib.colors as colorsq\n",
    "import numpy as np"
   ]
  },
  {
   "cell_type": "code",
   "execution_count": 22,
   "metadata": {},
   "outputs": [],
   "source": [
    "#расстояние между точками\n",
    "def dist(x1, y1, x2, y2):\n",
    "    return np.sqrt((x1 - x2) ** 2 + (y1 - y2) ** 2)"
   ]
  },
  {
   "cell_type": "code",
   "execution_count": 23,
   "metadata": {},
   "outputs": [
    {
     "name": "stdout",
     "output_type": "stream",
     "text": [
      "[0, 0, 0, 0, 0, 0, 0, 0, 0, 0, 0, 0, 0, 0, 0, 0, 0, 0, 0, 0, 0, 0, 0, 0, 0, 0, 1, 1, 1, 1, 1, 1, 1, 1, 1, 1, 1, 1, 1, 1, 1, 1, 1, 3, 3, 3, 3, 3, 4, 4, 4, 4, 4, 4, 4, 4, 4, 4, 4, 4, 4, 4, 4, 4, 4, 4, 5, 5, 5, 5, 5, 5, 7, 7, 7, 7, 7, 7, 7, 7, 7, 7, 7, 7, 7, 7, 7, 7, 7, 7, 8, 8, 8, 8, 8, 10, 10, 10, 10, 10]\n"
     ]
    }
   ],
   "source": [
    "n = 100\n",
    "e, minPointsCount = 5, 3\n",
    "color_list = []\n",
    "for i in range(n):\n",
    "    color_list.append('r')\n",
    "\n",
    "colors = ['lavenderblush', 'blue', 'green', 'cyan', 'magenta', 'yellow', 'black', 'darkmagenta', 'darkorange', 'maroon',\n",
    "          'pink', 'crimson', 'lime', 'red', 'gray', 'olive', 'dodgerblue', 'skyblue']\n",
    "\n",
    "x = [np.random.randint(1, 50) for i in range(n)]\n",
    "y = [np.random.randint(1, 50) for i in range(n)]\n",
    "\n",
    "flags = []\n",
    "for i in range(0, n):\n",
    "    s = 0\n",
    "    #если расстояние до точек меньше, то считаем соседей и помечаем зеленым\n",
    "    for j in range(0, n):\n",
    "        if dist(x[i], y[i], x[j], y[j]) <= e:\n",
    "            s += 1\n",
    "    if s > minPointsCount:\n",
    "        flags.append('g')\n",
    "    else:\n",
    "        flags.append('black')\n",
    "\n",
    "#проверяем черные на крайние\n",
    "for i in range(0, n):\n",
    "    if flags[i] == 'black':\n",
    "        for j in range(0, n):\n",
    "            if flags[j] == 'g':\n",
    "                if dist(x[i], y[i], x[j], y[j]) <= e:\n",
    "                    flags[i] = 'y'\n",
    "cluster = []\n",
    "for i in range(n):\n",
    "    cluster.append(0)\n",
    "\n",
    "#формируем группы\n",
    "c = 1\n",
    "for i in range(0, n):\n",
    "    if flags[i] == 'g':\n",
    "        for j in range(0, n):\n",
    "            if dist(x[i], y[i], x[j], y[j]) <= e:\n",
    "                if flags[j] == 'g':\n",
    "                    if cluster[i] == 0 and cluster[j] == 0:\n",
    "                        cluster[i] = c\n",
    "                        cluster[j] = c\n",
    "                        c += 1\n",
    "                    elif cluster[i] == 0 and cluster[j] != 0:\n",
    "                        cluster[i] = cluster[j]\n",
    "                    elif cluster[j] == 0 and cluster[i] != 0:\n",
    "                        cluster[j] = cluster[i]\n",
    "                    elif cluster[i] != 0 and cluster[j] != 0:\n",
    "                        if cluster[i] < cluster[j]:\n",
    "                            cluster[j] = cluster[i]\n",
    "                        else:\n",
    "                            cluster[i] = cluster[j]\n",
    "                elif flags[j] == 'y':\n",
    "                    if cluster[i] == 0:\n",
    "                        cluster[i] = c\n",
    "                        c += 1\n",
    "\n",
    "for i in range(0, n):\n",
    "    if flags[i] == 'y':\n",
    "        for j in range(0, n):\n",
    "            if flags[j] == 'g':\n",
    "                if dist(x[i], y[i], x[j], y[j]) <= e and cluster[j] != 0:\n",
    "                    cluster[i] = cluster[j]\n",
    "\n",
    "for i in range(n):\n",
    "    for j in range(len(colors)):\n",
    "        if cluster[i] == j:\n",
    "            color_list[i] = colors[j]\n",
    "\n",
    "\n",
    "cluster.sort()\n",
    "print(cluster)"
   ]
  },
  {
   "cell_type": "code",
   "execution_count": 24,
   "metadata": {},
   "outputs": [
    {
     "data": {
      "image/png": "[encoded data removed]",
      "text/plain": [
       "<Figure size 432x288 with 1 Axes>"
      ]
     },
     "metadata": {
      "needs_background": "light"
     },
     "output_type": "display_data"
    },
    {
     "data": {
      "image/png": "[encoded data removed]",
      "text/plain": [
       "<Figure size 432x288 with 1 Axes>"
      ]
     },
     "metadata": {
      "needs_background": "light"
     },
     "output_type": "display_data"
    }
   ],
   "source": [
    "#визуализируем\n",
    "for i in range(0, n):\n",
    "    plt.scatter(x[i], y[i], color=flags[i])\n",
    "plt.show()\n",
    "\n",
    "for i in range(0, n):\n",
    "    plt.scatter(x[i], y[i], color=color_list[i])\n",
    "plt.show()"
   ]
  },
  {
   "cell_type": "code",
   "execution_count": null,
   "metadata": {},
   "outputs": [],
   "source": []
  }
 ],
 "metadata": {
  "kernelspec": {
   "display_name": "Python 3",
   "language": "python",
   "name": "python3"
  },
  "language_info": {
   "codemirror_mode": {
    "name": "ipython",
    "version": 3
   },
   "file_extension": ".py",
   "mimetype": "text/x-python",
   "name": "python",
   "nbconvert_exporter": "python",
   "pygments_lexer": "ipython3",
   "version": "3.7.3"
  }
 },
 "nbformat": 4,
 "nbformat_minor": 2
}

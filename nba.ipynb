{
 "cells": [
  {
   "cell_type": "code",
   "execution_count": 3,
   "metadata": {},
   "outputs": [],
   "source": [
    "#импорт библиотек\n",
    "import pandas as pd\n",
    "import numpy as np "
   ]
  },
  {
   "cell_type": "code",
   "execution_count": 6,
   "metadata": {},
   "outputs": [
    {
     "data": {
      "text/html": [
       "<div>\n",
       "<style scoped>\n",
       "    .dataframe tbody tr th:only-of-type {\n",
       "        vertical-align: middle;\n",
       "    }\n",
       "\n",
       "    .dataframe tbody tr th {\n",
       "        vertical-align: top;\n",
       "    }\n",
       "\n",
       "    .dataframe thead th {\n",
       "        text-align: right;\n",
       "    }\n",
       "</style>\n",
       "<table border=\"1\" class=\"dataframe\">\n",
       "  <thead>\n",
       "    <tr style=\"text-align: right;\">\n",
       "      <th></th>\n",
       "      <th>Болезнь</th>\n",
       "      <th>количество пациентов</th>\n",
       "    </tr>\n",
       "  </thead>\n",
       "  <tbody>\n",
       "    <tr>\n",
       "      <th>0</th>\n",
       "      <td>Двусторонний паратонзиллярный абсцесс</td>\n",
       "      <td>9</td>\n",
       "    </tr>\n",
       "    <tr>\n",
       "      <th>1</th>\n",
       "      <td>Левосторонний паратонзиллит</td>\n",
       "      <td>26</td>\n",
       "    </tr>\n",
       "    <tr>\n",
       "      <th>2</th>\n",
       "      <td>Правосторонний паратонзиллит</td>\n",
       "      <td>30</td>\n",
       "    </tr>\n",
       "    <tr>\n",
       "      <th>3</th>\n",
       "      <td>Левосторонний паратонзиллярный абсцесс</td>\n",
       "      <td>116</td>\n",
       "    </tr>\n",
       "    <tr>\n",
       "      <th>4</th>\n",
       "      <td>Правосторонний паратонзиллярный абсцесс</td>\n",
       "      <td>96</td>\n",
       "    </tr>\n",
       "  </tbody>\n",
       "</table>\n",
       "</div>"
      ],
      "text/plain": [
       "                                   Болезнь  количество пациентов\n",
       "0    Двусторонний паратонзиллярный абсцесс                     9\n",
       "1              Левосторонний паратонзиллит                    26\n",
       "2             Правосторонний паратонзиллит                    30\n",
       "3   Левосторонний паратонзиллярный абсцесс                   116\n",
       "4  Правосторонний паратонзиллярный абсцесс                    96"
      ]
     },
     "execution_count": 6,
     "metadata": {},
     "output_type": "execute_result"
    }
   ],
   "source": [
    "disease = pd.read_csv('disease.csv', delimiter=\";\") \n",
    "symptom = pd.read_csv('symptom.csv', delimiter=\";\")\n",
    "\n",
    "disease.head()"
   ]
  },
  {
   "cell_type": "code",
   "execution_count": 7,
   "metadata": {},
   "outputs": [
    {
     "data": {
      "text/html": [
       "<div>\n",
       "<style scoped>\n",
       "    .dataframe tbody tr th:only-of-type {\n",
       "        vertical-align: middle;\n",
       "    }\n",
       "\n",
       "    .dataframe tbody tr th {\n",
       "        vertical-align: top;\n",
       "    }\n",
       "\n",
       "    .dataframe thead th {\n",
       "        text-align: right;\n",
       "    }\n",
       "</style>\n",
       "<table border=\"1\" class=\"dataframe\">\n",
       "  <thead>\n",
       "    <tr style=\"text-align: right;\">\n",
       "      <th></th>\n",
       "      <th>Симптом</th>\n",
       "      <th>Острый левостор паратонз абсцесс</th>\n",
       "      <th>Острый правостор паратонз абсцесс</th>\n",
       "      <th>Острый двухстор паратонз абсцесс</th>\n",
       "      <th>Острый левостор паратон-зиллит</th>\n",
       "      <th>Острый правостор паратон-зиллит</th>\n",
       "      <th>Острый левостор парафарин абсцесс</th>\n",
       "      <th>Острый правостор парафарин абсцесс</th>\n",
       "      <th>Острый левостор парафарингит</th>\n",
       "      <th>Острый правостор парафарингит</th>\n",
       "    </tr>\n",
       "  </thead>\n",
       "  <tbody>\n",
       "    <tr>\n",
       "      <th>0</th>\n",
       "      <td>1</td>\n",
       "      <td>2.00</td>\n",
       "      <td>3.00</td>\n",
       "      <td>4.00</td>\n",
       "      <td>5.00</td>\n",
       "      <td>6.00</td>\n",
       "      <td>7.0</td>\n",
       "      <td>8.0</td>\n",
       "      <td>9.0</td>\n",
       "      <td>10.0</td>\n",
       "    </tr>\n",
       "    <tr>\n",
       "      <th>1</th>\n",
       "      <td>Недомогание</td>\n",
       "      <td>0.97</td>\n",
       "      <td>0.96</td>\n",
       "      <td>1.00</td>\n",
       "      <td>0.92</td>\n",
       "      <td>0.91</td>\n",
       "      <td>1.0</td>\n",
       "      <td>1.0</td>\n",
       "      <td>1.0</td>\n",
       "      <td>0.9</td>\n",
       "    </tr>\n",
       "    <tr>\n",
       "      <th>2</th>\n",
       "      <td>Слабость</td>\n",
       "      <td>0.99</td>\n",
       "      <td>0.98</td>\n",
       "      <td>1.00</td>\n",
       "      <td>0.96</td>\n",
       "      <td>1.00</td>\n",
       "      <td>1.0</td>\n",
       "      <td>1.0</td>\n",
       "      <td>0.7</td>\n",
       "      <td>1.0</td>\n",
       "    </tr>\n",
       "    <tr>\n",
       "      <th>3</th>\n",
       "      <td>Головную боль</td>\n",
       "      <td>0.66</td>\n",
       "      <td>0.73</td>\n",
       "      <td>0.88</td>\n",
       "      <td>0.76</td>\n",
       "      <td>0.79</td>\n",
       "      <td>0.5</td>\n",
       "      <td>0.5</td>\n",
       "      <td>1.0</td>\n",
       "      <td>0.6</td>\n",
       "    </tr>\n",
       "    <tr>\n",
       "      <th>4</th>\n",
       "      <td>Отсутствие аппетита</td>\n",
       "      <td>0.73</td>\n",
       "      <td>0.75</td>\n",
       "      <td>0.88</td>\n",
       "      <td>0.76</td>\n",
       "      <td>0.86</td>\n",
       "      <td>0.5</td>\n",
       "      <td>0.5</td>\n",
       "      <td>0.8</td>\n",
       "      <td>0.6</td>\n",
       "    </tr>\n",
       "  </tbody>\n",
       "</table>\n",
       "</div>"
      ],
      "text/plain": [
       "               Симптом   Острый левостор паратонз абсцесс  \\\n",
       "0                    1                               2.00   \n",
       "1          Недомогание                               0.97   \n",
       "2             Слабость                               0.99   \n",
       "3        Головную боль                               0.66   \n",
       "4  Отсутствие аппетита                               0.73   \n",
       "\n",
       "    Острый правостор паратонз абсцесс  Острый двухстор паратонз абсцесс  \\\n",
       "0                                3.00                              4.00   \n",
       "1                                0.96                              1.00   \n",
       "2                                0.98                              1.00   \n",
       "3                                0.73                              0.88   \n",
       "4                                0.75                              0.88   \n",
       "\n",
       "   Острый левостор паратон-зиллит  Острый правостор паратон-зиллит  \\\n",
       "0                            5.00                             6.00   \n",
       "1                            0.92                             0.91   \n",
       "2                            0.96                             1.00   \n",
       "3                            0.76                             0.79   \n",
       "4                            0.76                             0.86   \n",
       "\n",
       "   Острый левостор парафарин абсцесс  Острый правостор парафарин абсцесс  \\\n",
       "0                                7.0                                 8.0   \n",
       "1                                1.0                                 1.0   \n",
       "2                                1.0                                 1.0   \n",
       "3                                0.5                                 0.5   \n",
       "4                                0.5                                 0.5   \n",
       "\n",
       "   Острый левостор парафарингит  Острый правостор парафарингит  \n",
       "0                           9.0                           10.0  \n",
       "1                           1.0                            0.9  \n",
       "2                           0.7                            1.0  \n",
       "3                           1.0                            0.6  \n",
       "4                           0.8                            0.6  "
      ]
     },
     "execution_count": 7,
     "metadata": {},
     "output_type": "execute_result"
    }
   ],
   "source": [
    "symptom.head()"
   ]
  },
  {
   "cell_type": "code",
   "execution_count": 8,
   "metadata": {},
   "outputs": [
    {
     "name": "stdout",
     "output_type": "stream",
     "text": [
      "[0, 1, 1, 1, 1, 1, 0, 1, 0, 0, 1, 1, 1, 1, 1, 1, 1, 0, 1, 0, 1, 0, 1]\n"
     ]
    }
   ],
   "source": [
    "rand_symp = [np.random.randint(0, 2) for i in range(23)] \n",
    "print(rand_symp)"
   ]
  },
  {
   "cell_type": "code",
   "execution_count": 13,
   "metadata": {},
   "outputs": [
    {
     "name": "stdout",
     "output_type": "stream",
     "text": [
      "Вероятности\n",
      "\n",
      "[7.867730055982459e-16, 2.4127074238814624e-10, 0.0, 0.0, 3.1926538839710467e-12, 1.3820132013201323e-24, 6.18811881188119e-15, 7.652996982178218e-25, 8.728681644356436e-12] \n",
      "\n"
     ]
    }
   ],
   "source": [
    "#теорема Байеса: P(A/B) = P(B/A)*P(A)/P(B), тогда P(B/A) - из таблицы symptom, P(A) вычисляем ниже, \n",
    "#P(B) одинаковые, не учитываем, P(A/B) - искомое - вероятность того, что болеет А при симптоме B\n",
    "\n",
    "#P_disease - вероятности заболеть болезнью (P(A))\n",
    "\n",
    "P_disease = []\n",
    "for i in range(len(disease) - 1): \n",
    "    P_disease.append(disease['количество пациентов'][i]/disease['количество пациентов'][len(disease)-1]) \n",
    "\n",
    "P_dis_sympt = [1]*(len(disease) - 1) \n",
    "\n",
    "#вычисляем P(B/A)*P(A) в P_dis_sympt\n",
    "for i in range(len(disease) - 1): \n",
    "    P_dis_sympt[i] *= P_disease[i] \n",
    "    for j in range(len(symptom)-1):\n",
    "        if rand_symp[j] == 1:\n",
    "            P_dis_sympt[i] *= float(symptom.iloc[j+1][i+1]) \n",
    "print(\"Вероятности\\n\")\n",
    "print(P_dis_sympt)"
   ]
  }
 ],
 "metadata": {
  "kernelspec": {
   "display_name": "Python 3",
   "language": "python",
   "name": "python3"
  },
  "language_info": {
   "codemirror_mode": {
    "name": "ipython",
    "version": 3
   },
   "file_extension": ".py",
   "mimetype": "text/x-python",
   "name": "python",
   "nbconvert_exporter": "python",
   "pygments_lexer": "ipython3",
   "version": "3.7.3"
  }
 },
 "nbformat": 4,
 "nbformat_minor": 2
}

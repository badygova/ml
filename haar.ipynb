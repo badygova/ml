{
 "cells": [
  {
   "cell_type": "code",
   "execution_count": null,
   "metadata": {},
   "outputs": [],
   "source": [
    "import cv2\n",
    "import numpy as np\n",
    "\n",
    "test_image = cv2.imread('/home/aliya/test.jpg')\n",
    "face_cascade = cv2.CascadeClassifier('haarcascade_frontalface_default.xml')\n",
    "faces = face_cascade.detectMultiScale(cv2.cvtColor(test_image, cv2.COLOR_BGR2GRAY), 1.3, 5)\n",
    "\n",
    "def detectFaces(img):\n",
    "    for (x, y, w, h) in faces:\n",
    "        half_height = h//2\n",
    "        half_weight =  w//2\n",
    "        center = (x + half_weight, y + half_height)\n",
    "        cv2.ellipse(img, center,  (half_weight, half_height), 0, 0, 360, (255, 255, 255), 4)\n",
    "        roi_color = img[y:y + h, x:x + w]\n",
    "\n",
    "    cv2.imshow('Face detection', img)\n",
    "    cv2.waitKey(0)\n",
    "    cv2.imwrite('image.jpg', img)\n",
    "    \n",
    "detectFaces(test_image)"
   ]
  }
 ],
 "metadata": {
  "kernelspec": {
   "display_name": "Python 3",
   "language": "python",
   "name": "python3"
  },
  "language_info": {
   "codemirror_mode": {
    "name": "ipython",
    "version": 3
   },
   "file_extension": ".py",
   "mimetype": "text/x-python",
   "name": "python",
   "nbconvert_exporter": "python",
   "pygments_lexer": "ipython3",
   "version": "3.7.3"
  }
 },
 "nbformat": 4,
 "nbformat_minor": 2
}

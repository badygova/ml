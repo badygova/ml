{
 "cells": [
  {
   "cell_type": "code",
   "execution_count": 2,
   "metadata": {},
   "outputs": [],
   "source": [
    "#импорт библиотек\n",
    "import pandas as pd\n",
    "import numpy as np\n",
    "import random\n",
    "\n",
    "#визуализация\n",
    "import matplotlib.pyplot as plt\n",
    "import networkx as nw"
   ]
  },
  {
   "cell_type": "code",
   "execution_count": 12,
   "metadata": {},
   "outputs": [
    {
     "name": "stdout",
     "output_type": "stream",
     "text": [
      "\n",
      "\n",
      "Точка: ( 4.894190619842399 ,  1.6378754103427777 )\n",
      "\n",
      "10 минимальных расстояний от точки: \n",
      "[0.07524608437673795, 0.1153170613288758, 0.11629837823451225, 0.1342969241677318, 0.13571217200783206, 0.1474432489169834, 0.17259203599655168, 0.1874897880009947, 0.19343247879343603, 0.20474348404332113]\n",
      "Кластеры точек, у которых минимальное расстояние до выбранной:  [0, 0, 0, 0, 0, 8, 0, 0, 0, 8] \n",
      "Кластер выбранной точки: 0\n",
      "\n",
      "\n",
      "Точка: ( 4.253094788122263 ,  3.007585654089522 )\n",
      "\n",
      "10 минимальных расстояний от точки: \n",
      "[0.08144703035443669, 0.08721335302416026, 0.12396855174654584, 0.15966036821620594, 0.2218370053928964, 0.25515819779262405, 0.2685274122404442, 0.27535815757790694, 0.44853318751815385, 0.45658348773958807]\n",
      "Кластеры точек, у которых минимальное расстояние до выбранной:  [8, 0, 0, 0, 8, 8, 0, 0, 9, 8] \n",
      "Кластер выбранной точки: 0\n",
      "\n",
      "\n",
      "Точка: ( 3.1977979486991193 ,  1.3532149890919924 )\n",
      "\n",
      "10 минимальных расстояний от точки: \n",
      "[0.08816668042661961, 0.10492574969311848, 0.1550619719622682, 0.17437859313568363, 0.1769054572091866, 0.17888877945660198, 0.18692308258022014, 0.2408612185730667, 0.2543029678215202, 0.2611928365100947]\n",
      "Кластеры точек, у которых минимальное расстояние до выбранной:  [9, 6, 4, 9, 9, 6, 6, 6, 9, 9] \n",
      "Кластер выбранной точки: 9\n",
      "\n",
      "\n",
      "Точка: ( 3.760626613867147 ,  2.3760561929038984 )\n",
      "\n",
      "10 минимальных расстояний от точки: \n",
      "[0.025730175728729814, 0.09855221775881064, 0.12280695993509294, 0.13280643953591678, 0.14077147223315087, 0.15449566130483045, 0.16328780304690008, 0.16517094119920647, 0.1851882572384837, 0.2089756831724264]\n",
      "Кластеры точек, у которых минимальное расстояние до выбранной:  [9, 9, 9, 9, 9, 0, 8, 8, 0, 8] \n",
      "Кластер выбранной точки: 9\n",
      "\n",
      "\n",
      "Точка: ( 5.7529253887153855 ,  1.4617123066236215 )\n",
      "\n",
      "10 минимальных расстояний от точки: \n",
      "[0.218360057462119, 0.23115065524328834, 0.2560397726094541, 0.43705041635535546, 0.49937496710265517, 0.5149664408712064, 0.5439576593808473, 0.5575969325133867, 0.6060971795139805, 0.6063568534723088]\n",
      "Кластеры точек, у которых минимальное расстояние до выбранной:  [0, 0, 0, 0, 8, 0, 0, 0, 0, 0] \n",
      "Кластер выбранной точки: 0\n"
     ]
    },
    {
     "data": {
      "image/png": "[encoded data removed]",
      "text/plain": [
       "<Figure size 432x288 with 1 Axes>"
      ]
     },
     "metadata": {
      "needs_background": "light"
     },
     "output_type": "display_data"
    }
   ],
   "source": [
    "# Train data generator \n",
    "def generateData(numberOfClassEl, numberOfClasses): \n",
    "    data = [] \n",
    "    for classNum in range(numberOfClasses): \n",
    "        # Choose random center of 2-dimensional gaussian \n",
    "        centerX, centerY = random.random() * 5.0, random.random() * 5.0 \n",
    "        # Choose numberOfClassEl random nodes with RMS=0.5 \n",
    "        for rowNum in range(numberOfClassEl): \n",
    "            data.append([[random.gauss(centerX, 0.5), random.gauss(centerY, 0.5)], classNum]) \n",
    "    return data \n",
    "\n",
    "def dist(x1, y1, x2, y2): \n",
    "    return np.sqrt((x1 - x2) ** 2 + (y1 - y2) ** 2) \n",
    "\n",
    "n = 100\n",
    "k = np.int(np.sqrt(n)) \n",
    "data = [] \n",
    "data = generateData(n, k) \n",
    "x, y = [], [] \n",
    "for i in range(n): \n",
    "    x.append(data[i][0][0]) \n",
    "    y.append(data[i][0][1]) \n",
    "plt.scatter(x, y) \n",
    "\n",
    "min_x, max_x = np.min(x), np.max(x) \n",
    "min_y, max_y = np.min(y), np.max(y) \n",
    "\n",
    "#создадим 5 новых точек\n",
    "for i in range(5):\n",
    "    x_new = min_x + np.random.random() * (max_x - min_x) \n",
    "    y_new = min_y + np.random.random() * (max_y - min_y) \n",
    "\n",
    "    plt.scatter(x_new, y_new, color='r') \n",
    "\n",
    "    distance = [] \n",
    "    for j in range(n*k):\n",
    "        distance.append([data[j][1], dist(data[j][0][0], data[j][0][1], x_new, y_new)]) \n",
    "\n",
    "    #вычисляем k точек, расстояние которых мин до новой\n",
    "    points_with_min_distances = []\n",
    "    clusters = []\n",
    "    min = 1000\n",
    "    min_cl = 12\n",
    "    for j in range(k):\n",
    "        for i in range(len(distance)):\n",
    "            if(len(points_with_min_distances) == 0):\n",
    "                 if(distance[i][1] < min):\n",
    "                    min = distance[i][1]\n",
    "                    min_cl = distance[i][0]\n",
    "            else:\n",
    "                if((distance[i][1] < min) & (distance[i][1] > points_with_min_distances[j-1])):\n",
    "                    min = distance[i][1]\n",
    "                    min_cl = distance[i][0]\n",
    "        points_with_min_distances.append(min)\n",
    "        clusters.append(min_cl)\n",
    "        min = 1000\n",
    "    print(\"\\n\\nТочка: (\", x_new,\", \", y_new, \")\")\n",
    "    print(\"\\n10 минимальных расстояний от точки: \")\n",
    "    print(points_with_min_distances)\n",
    "    \n",
    "    import numpy as np\n",
    "    bc = np.bincount(clusters)\n",
    "    \n",
    "    print(\"Кластеры точек, у которых минимальное расстояние до выбранной: \",clusters, \"\\nКластер выбранной точки:\", bc.argmax())\n",
    "\n",
    "plt.show()"
   ]
  }
 ],
 "metadata": {
  "kernelspec": {
   "display_name": "Python 3",
   "language": "python",
   "name": "python3"
  },
  "language_info": {
   "codemirror_mode": {
    "name": "ipython",
    "version": 3
   },
   "file_extension": ".py",
   "mimetype": "text/x-python",
   "name": "python",
   "nbconvert_exporter": "python",
   "pygments_lexer": "ipython3",
   "version": "3.7.3"
  }
 },
 "nbformat": 4,
 "nbformat_minor": 2
}
